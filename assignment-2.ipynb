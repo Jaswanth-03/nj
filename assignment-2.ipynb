{
 "cells": [
  {
   "cell_type": "code",
   "execution_count": 1,
   "metadata": {},
   "outputs": [],
   "source": [
    "#Assignment-2"
   ]
  },
  {
   "cell_type": "code",
   "execution_count": 2,
   "metadata": {},
   "outputs": [
    {
     "name": "stdout",
     "output_type": "stream",
     "text": [
      "36\n"
     ]
    }
   ],
   "source": [
    "#Write a Python Program to implement your own myreduce() function which works exactly like Python's built-in function reduce()\n",
    "\n",
    "itr=list([1,2,3,4,5,6,7,8])\n",
    "def add_fun(a,b):\n",
    "    return a+b\n",
    "\n",
    "def red(fun,itr):\n",
    "    a=itr[0]\n",
    "    for i in itr:\n",
    "        if i==itr[0]:\n",
    "            continue\n",
    "        a=fun(a,i)\n",
    "    return a\n",
    "\n",
    "print(red(add_fun,itr))\n"
   ]
  },
  {
   "cell_type": "code",
   "execution_count": 3,
   "metadata": {},
   "outputs": [
    {
     "name": "stdout",
     "output_type": "stream",
     "text": [
      "[2, 4, 6, 8]\n"
     ]
    }
   ],
   "source": [
    "#Write a Python program to implement your own myfilter() function which works exactly like Python's built-in function filter()\n",
    "\n",
    "list1=[1,2,3,4,5,6,7,8,9]\n",
    "\n",
    "def even(num):\n",
    "    if num%2 ==0:\n",
    "        return True\n",
    "\n",
    "result=[]    \n",
    "def myfilter(fun,itr):\n",
    "    for i in itr:\n",
    "        if fun(i)==True:\n",
    "            result.append(i)\n",
    "    return result\n",
    "\n",
    "print(myfilter(even,list1))\n",
    "     "
   ]
  },
  {
   "cell_type": "code",
   "execution_count": 4,
   "metadata": {},
   "outputs": [],
   "source": [
    "#Implement List comprehensions to produce the following lists.\n",
    "# Write List comprehensions to produce the following Lists\n",
    "\n",
    "# ['A', 'C', 'A', 'D', 'G', 'I', ’L’, ‘ D’]\n",
    "# ['x', 'xx', 'xxx', 'xxxx', 'y', 'yy', 'yyy', 'yyyy', 'z', 'zz', 'zzz', 'zzzz']\n",
    "# ['x', 'y', 'z', 'xx', 'yy', 'zz', 'xx', 'yy', 'zz', 'xxxx', 'yyyy', 'zzzz']\n",
    "# [[2], [3], [4], [3], [4], [5], [4], [5], [6]]\n",
    "# [[2, 3, 4, 5], [3, 4, 5, 6], [4, 5, 6, 7], [5, 6, 7, 8]]\n",
    "# [(1, 1), (2, 1), (3, 1), (1, 2), (2, 2), (3, 2), (1, 3), (2, 3), (3, 3)]\n",
    "\n"
   ]
  },
  {
   "cell_type": "code",
   "execution_count": 5,
   "metadata": {},
   "outputs": [
    {
     "data": {
      "text/plain": [
       "['A', 'C', 'A', 'D', 'G', 'I', 'L', 'D']"
      ]
     },
     "execution_count": 5,
     "metadata": {},
     "output_type": "execute_result"
    }
   ],
   "source": [
    "l=list('ACADGILD')\n",
    "[i for i in l]"
   ]
  },
  {
   "cell_type": "code",
   "execution_count": 6,
   "metadata": {},
   "outputs": [
    {
     "data": {
      "text/plain": [
       "['x', 'xx', 'xxx', 'xxxx', 'y', 'yy', 'yyy', 'yyyy', 'z', 'zz', 'zzz', 'zzzz']"
      ]
     },
     "execution_count": 6,
     "metadata": {},
     "output_type": "execute_result"
    }
   ],
   "source": [
    "l1=list(['x','y','z'])\n",
    "[i*(j+1) for i in l1 for j in range(4)]"
   ]
  },
  {
   "cell_type": "code",
   "execution_count": 7,
   "metadata": {},
   "outputs": [
    {
     "data": {
      "text/plain": [
       "['x', 'y', 'z', 'xx', 'yy', 'zz', 'xx', 'yy', 'zz', 'xxxx', 'yyyy', 'zzzz']"
      ]
     },
     "execution_count": 7,
     "metadata": {},
     "output_type": "execute_result"
    }
   ],
   "source": [
    "l2=['x','y','z']\n",
    "[i*j if i==2 else j*(i+1) for i in range(4) for j in l2 ]"
   ]
  },
  {
   "cell_type": "code",
   "execution_count": 8,
   "metadata": {},
   "outputs": [
    {
     "data": {
      "text/plain": [
       "[[2], [3], [4], [3], [4], [5], [4], [5], [6]]"
      ]
     },
     "execution_count": 8,
     "metadata": {},
     "output_type": "execute_result"
    }
   ],
   "source": [
    "l3=[2,3,4,3,4,5,4,5,6]\n",
    "l4=[]\n",
    "[l4.append([i]) for i in l3 ]\n",
    "l4"
   ]
  },
  {
   "cell_type": "code",
   "execution_count": 9,
   "metadata": {},
   "outputs": [
    {
     "data": {
      "text/plain": [
       "[[2, 3, 4, 5], [3, 4, 5, 6], [4, 5, 6, 7], [5, 6, 7, 8]]"
      ]
     },
     "execution_count": 9,
     "metadata": {},
     "output_type": "execute_result"
    }
   ],
   "source": [
    "l5=[2,3,4,5]\n",
    "[list(map(lambda x:x+i,l5)) for i in range(len(l5))]"
   ]
  },
  {
   "cell_type": "code",
   "execution_count": 10,
   "metadata": {},
   "outputs": [
    {
     "name": "stdout",
     "output_type": "stream",
     "text": [
      "[(1, 1), (2, 1), (3, 1), (1, 2), (2, 2), (3, 2), (1, 3), (2, 3), (3, 3)]\n"
     ]
    }
   ],
   "source": [
    "l6=[1,2,3]\n",
    "l7=[]\n",
    "[l7.append((j,i)) for i in l6 for j in l6 ]\n",
    "print(l7)\n",
    "        "
   ]
  },
  {
   "cell_type": "code",
   "execution_count": 11,
   "metadata": {},
   "outputs": [
    {
     "name": "stdout",
     "output_type": "stream",
     "text": [
      "onetwothreefour\n"
     ]
    }
   ],
   "source": [
    "# Implement a function longestWord() that takes a list of words and returns the longest one.\n",
    "\n",
    "l8=['one','two','three','four']\n",
    "\n",
    "def longestWord(list8):\n",
    "    concat=''\n",
    "    for i in range(len(list8)):\n",
    "        concat=concat+list8[i]\n",
    "    return concat\n",
    "\n",
    "print(longestWord(l8))\n",
    "    "
   ]
  },
  {
   "cell_type": "code",
   "execution_count": 12,
   "metadata": {},
   "outputs": [
    {
     "name": "stdout",
     "output_type": "stream",
     "text": [
      "enter the lengths of the triangle:2 3 4\n",
      "area of the triangle : 2.9047375096555625\n"
     ]
    }
   ],
   "source": [
    "# Write a Python Program(with class concepts) to find the area of the triangle using the below formula.\n",
    "# area = (s*(s-a)*(s-b)*(s-c)) ** 0.5\n",
    "# Function to take the length of the sides of triangle from user should be defined in the parent class and function to calculate\n",
    "# the area should be defined in subclass.\n",
    "\n",
    "class base:\n",
    "    def __init__(self,a,b,c):\n",
    "        self._a=a\n",
    "        self._b=b\n",
    "        self._c=c\n",
    "\n",
    "class derived(base):\n",
    "    def __init__(self,*args):\n",
    "        super(derived,self).__init__(*args)\n",
    "    def calculate(self):\n",
    "        s=(self._a+self._b+self._c)/2\n",
    "        a=(s*(s-self._a)*(s-self._b)*(s-self._c)) ** 0.5\n",
    "        return 'area of the triangle : '+str(a)\n",
    "    \n",
    "a,b,c=map(int,input(\"enter the lengths of the triangle:\").split(' '))\n",
    "area=derived(a,b,c)\n",
    "print(area.calculate())\n"
   ]
  },
  {
   "cell_type": "code",
   "execution_count": 13,
   "metadata": {},
   "outputs": [
    {
     "name": "stdout",
     "output_type": "stream",
     "text": [
      "['three']\n"
     ]
    }
   ],
   "source": [
    "# Write a function filter_long_words() that takes a list of words and an integer n and returns the list of words that are \n",
    "# longer than n.\n",
    "\n",
    "l9=['one','two','three','four']\n",
    "n=4\n",
    "l10=[]\n",
    "def filter_long_words(list9,num):\n",
    "    for i in l9:\n",
    "        if len(i)>n:\n",
    "            l10.append(i)\n",
    "    return l10\n",
    "\n",
    "print(filter_long_words(l9,n))\n",
    "\n",
    "    "
   ]
  },
  {
   "cell_type": "code",
   "execution_count": 14,
   "metadata": {},
   "outputs": [
    {
     "name": "stdout",
     "output_type": "stream",
     "text": [
      "[3, 3, 5, 4]\n"
     ]
    }
   ],
   "source": [
    "# Write a Python program using function concept that maps list of words into a list of integers\n",
    "# representing the lengths of the corresponding words.\n",
    "# Hint: If a list [ ab,cde,erty] is passed on to the python function output should come as [2,3,4]\n",
    "# Here 2,3 and 4 are the lengths of the words in the list\n",
    "\n",
    "l11=['one','two','three','four']\n",
    "d=[]\n",
    "def lengths_of_words(l11):\n",
    "    for i in l11:\n",
    "        d.append(len(i))\n",
    "    return d\n",
    "\n",
    "print(lengths_of_words(l11))\n",
    "        "
   ]
  },
  {
   "cell_type": "code",
   "execution_count": 15,
   "metadata": {},
   "outputs": [
    {
     "name": "stdout",
     "output_type": "stream",
     "text": [
      "True\n"
     ]
    }
   ],
   "source": [
    "#Write a Python function which takes a character (i.e. a string of length 1) and returns True if it is a vowel, False otherwise.\n",
    "\n",
    "v=['a','A','e','E','i','I','o','O','u','U']\n",
    "\n",
    "def vowel(c):\n",
    "    for i in v:\n",
    "        if c==i:\n",
    "            return True\n",
    "    else:\n",
    "        return False\n",
    "\n",
    "print(vowel('u'))"
   ]
  }
 ],
 "metadata": {
  "kernelspec": {
   "display_name": "Python 3",
   "language": "python",
   "name": "python3"
  },
  "language_info": {
   "codemirror_mode": {
    "name": "ipython",
    "version": 3
   },
   "file_extension": ".py",
   "mimetype": "text/x-python",
   "name": "python",
   "nbconvert_exporter": "python",
   "pygments_lexer": "ipython3",
   "version": "3.7.6"
  }
 },
 "nbformat": 4,
 "nbformat_minor": 4
}
